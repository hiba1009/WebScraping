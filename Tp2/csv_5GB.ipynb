{
 "cells": [
  {
   "cell_type": "code",
   "execution_count": 8,
   "metadata": {
    "_cell_guid": "b1076dfc-b9ad-4769-8c92-a6c4dae69d19",
    "_uuid": "8f2839f25d086af736a60e9eeb907d3b93b6e0e5",
    "execution": {
     "iopub.execute_input": "2025-10-18T20:35:17.321372Z",
     "iopub.status.busy": "2025-10-18T20:35:17.320947Z",
     "iopub.status.idle": "2025-10-18T20:35:17.332919Z",
     "shell.execute_reply": "2025-10-18T20:35:17.331631Z",
     "shell.execute_reply.started": "2025-10-18T20:35:17.321344Z"
    },
    "trusted": true
   },
   "outputs": [
    {
     "name": "stdout",
     "output_type": "stream",
     "text": [
      "/kaggle/input/ecommerce-behavior-data-from-multi-category-store/2019-Nov.csv\n",
      "/kaggle/input/ecommerce-behavior-data-from-multi-category-store/2019-Oct.csv\n"
     ]
    }
   ],
   "source": [
    "# This Python 3 environment comes with many helpful analytics libraries installed\n",
    "# It is defined by the kaggle/python Docker image: https://github.com/kaggle/docker-python\n",
    "# For example, here's several helpful packages to load\n",
    "\n",
    "import numpy as np # linear algebra\n",
    "import pandas as pd # data processing, CSV file I/O (e.g. pd.read_csv)\n",
    "\n",
    "# Input data files are available in the read-only \"../input/\" directory\n",
    "# For example, running this (by clicking run or pressing Shift+Enter) will list all files under the input directory\n",
    "\n",
    "import os\n",
    "for dirname, _, filenames in os.walk('/kaggle/input'):\n",
    "    for filename in filenames:\n",
    "        print(os.path.join(dirname, filename))\n",
    "\n",
    "# You can write up to 20GB to the current directory (/kaggle/working/) that gets preserved as output when you create a version using \"Save & Run All\" \n",
    "# You can also write temporary files to /kaggle/temp/, but they won't be saved outside of the current session"
   ]
  },
  {
   "cell_type": "code",
   "execution_count": 9,
   "metadata": {
    "execution": {
     "iopub.execute_input": "2025-10-18T20:35:17.334798Z",
     "iopub.status.busy": "2025-10-18T20:35:17.334420Z",
     "iopub.status.idle": "2025-10-18T20:35:17.364715Z",
     "shell.execute_reply": "2025-10-18T20:35:17.363572Z",
     "shell.execute_reply.started": "2025-10-18T20:35:17.334760Z"
    },
    "trusted": true
   },
   "outputs": [],
   "source": [
    "path = \"/kaggle/input/ecommerce-behavior-data-from-multi-category-store/2019-Oct.csv\"\n"
   ]
  },
  {
   "cell_type": "markdown",
   "metadata": {},
   "source": [
    "# Pandas (chunksize)"
   ]
  },
  {
   "cell_type": "code",
   "execution_count": 34,
   "metadata": {
    "execution": {
     "iopub.execute_input": "2025-10-18T21:23:53.355474Z",
     "iopub.status.busy": "2025-10-18T21:23:53.355180Z",
     "iopub.status.idle": "2025-10-18T21:25:18.448916Z",
     "shell.execute_reply": "2025-10-18T21:25:18.447517Z",
     "shell.execute_reply.started": "2025-10-18T21:23:53.355453Z"
    },
    "trusted": true
   },
   "outputs": [
    {
     "name": "stdout",
     "output_type": "stream",
     "text": [
      " تم تحميل الملف بنجاح في 85.09 ثانية\n",
      "عدد الأسطر الإجمالي: 100000\n"
     ]
    }
   ],
   "source": [
    "import pandas as pd\n",
    "import time\n",
    "\n",
    "start = time.time()\n",
    "\n",
    "chunksize = 50000  \n",
    "chunks = []\n",
    "\n",
    "for chunk in pd.read_csv(path, chunksize=chunksize):\n",
    "    chunks.append(chunk)\n",
    "\n",
    "df = pd.read_csv(path, nrows=100000)\n",
    "\n",
    "end = time.time()\n",
    "print(f\" تم تحميل الملف بنجاح في {end - start:.2f} ثانية\")\n",
    "print(f\"عدد الأسطر الإجمالي: {len(df)}\")\n"
   ]
  },
  {
   "cell_type": "code",
   "execution_count": 36,
   "metadata": {
    "execution": {
     "iopub.execute_input": "2025-10-18T21:27:32.304970Z",
     "iopub.status.busy": "2025-10-18T21:27:32.304583Z",
     "iopub.status.idle": "2025-10-18T21:27:32.413117Z",
     "shell.execute_reply": "2025-10-18T21:27:32.411972Z",
     "shell.execute_reply.started": "2025-10-18T21:27:32.304947Z"
    },
    "trusted": true
   },
   "outputs": [],
   "source": [
    "memory = df.memory_usage(deep=True).sum() / (1024**2)"
   ]
  },
  {
   "cell_type": "markdown",
   "metadata": {},
   "source": [
    "# Dask "
   ]
  },
  {
   "cell_type": "code",
   "execution_count": 12,
   "metadata": {
    "execution": {
     "iopub.execute_input": "2025-10-18T20:39:01.261425Z",
     "iopub.status.busy": "2025-10-18T20:39:01.261173Z",
     "iopub.status.idle": "2025-10-18T20:40:41.096405Z",
     "shell.execute_reply": "2025-10-18T20:40:41.095014Z",
     "shell.execute_reply.started": "2025-10-18T20:39:01.261406Z"
    },
    "trusted": true
   },
   "outputs": [
    {
     "name": "stdout",
     "output_type": "stream",
     "text": [
      " الزمن المستغرق: 99.83 ثانية\n",
      "عدد الأسطر الإجمالي: 42448764\n"
     ]
    }
   ],
   "source": [
    "import dask.dataframe as dd\n",
    "import time\n",
    "\n",
    "start_dask = time.time()\n",
    "\n",
    "df_dask = dd.read_csv(path).compute()\n",
    "\n",
    "\n",
    "end_dask = time.time()\n",
    "print(f\" الزمن المستغرق: {end_dask - start_dask:.2f} ثانية\")\n",
    "print(f\"عدد الأسطر الإجمالي: {len(df_dask)}\")"
   ]
  },
  {
   "cell_type": "code",
   "execution_count": 13,
   "metadata": {
    "execution": {
     "iopub.execute_input": "2025-10-18T20:40:41.098536Z",
     "iopub.status.busy": "2025-10-18T20:40:41.097691Z",
     "iopub.status.idle": "2025-10-18T20:40:41.112326Z",
     "shell.execute_reply": "2025-10-18T20:40:41.111051Z",
     "shell.execute_reply.started": "2025-10-18T20:40:41.098505Z"
    },
    "trusted": true
   },
   "outputs": [],
   "source": [
    "memory_dask = df_dask.memory_usage(deep=True).sum() / (1024 ** 2)"
   ]
  },
  {
   "cell_type": "markdown",
   "metadata": {},
   "source": [
    "# Compressed (Gzip) "
   ]
  },
  {
   "cell_type": "code",
   "execution_count": 25,
   "metadata": {
    "execution": {
     "iopub.execute_input": "2025-10-18T21:03:27.906743Z",
     "iopub.status.busy": "2025-10-18T21:03:27.906361Z",
     "iopub.status.idle": "2025-10-18T21:04:12.873300Z",
     "shell.execute_reply": "2025-10-18T21:04:12.871973Z",
     "shell.execute_reply.started": "2025-10-18T21:03:27.906717Z"
    },
    "trusted": true
   },
   "outputs": [],
   "source": [
    "!cp /kaggle/input/ecommerce-behavior-data-from-multi-category-store/2019-Oct.csv /kaggle/working/\n"
   ]
  },
  {
   "cell_type": "code",
   "execution_count": 26,
   "metadata": {
    "execution": {
     "iopub.execute_input": "2025-10-18T21:07:36.027324Z",
     "iopub.status.busy": "2025-10-18T21:07:36.026782Z",
     "iopub.status.idle": "2025-10-18T21:12:07.042872Z",
     "shell.execute_reply": "2025-10-18T21:12:07.040942Z",
     "shell.execute_reply.started": "2025-10-18T21:07:36.027293Z"
    },
    "trusted": true
   },
   "outputs": [],
   "source": [
    "!gzip /kaggle/working/2019-Oct.csv\n"
   ]
  },
  {
   "cell_type": "code",
   "execution_count": 16,
   "metadata": {
    "execution": {
     "iopub.execute_input": "2025-10-18T20:45:34.092127Z",
     "iopub.status.busy": "2025-10-18T20:45:34.091637Z",
     "iopub.status.idle": "2025-10-18T20:48:03.964270Z",
     "shell.execute_reply": "2025-10-18T20:48:03.961097Z",
     "shell.execute_reply.started": "2025-10-18T20:45:34.092097Z"
    },
    "trusted": true
   },
   "outputs": [
    {
     "name": "stdout",
     "output_type": "stream",
     "text": [
      " الزمن المستغرق: 149.84 ثانية\n",
      "عدد الأسطر الإجمالي: 42448764\n"
     ]
    }
   ],
   "source": [
    "start_time_gzip = time.time()\n",
    "df_gzip = pd.read_csv('/kaggle/working/2019-Oct.csv.gz', compression='gzip')\n",
    "end_time_gzip = time.time()\n",
    "print(f\" الزمن المستغرق: {end_time_gzip - start_time_gzip:.2f} ثانية\")\n",
    "print(f\"عدد الأسطر الإجمالي: {len(df_gzip)}\")"
   ]
  },
  {
   "cell_type": "code",
   "execution_count": 28,
   "metadata": {
    "execution": {
     "iopub.execute_input": "2025-10-18T21:13:26.000421Z",
     "iopub.status.busy": "2025-10-18T21:13:25.999978Z",
     "iopub.status.idle": "2025-10-18T21:13:26.006749Z",
     "shell.execute_reply": "2025-10-18T21:13:26.005258Z",
     "shell.execute_reply.started": "2025-10-18T21:13:26.000397Z"
    },
    "trusted": true
   },
   "outputs": [],
   "source": [
    "import os\n",
    "\n",
    "file_path = '/kaggle/working/2019-Oct.csv.gz'\n",
    "\n",
    "# الحصول على الحجم بالبايت\n",
    "file_size_bytes = os.path.getsize(file_path)\n",
    "\n",
    "# تحويل إلى ميغابايت\n",
    "memory_gzip = file_size_bytes / (1024 ** 2)\n"
   ]
  },
  {
   "cell_type": "markdown",
   "metadata": {},
   "source": [
    "# comparison"
   ]
  },
  {
   "cell_type": "code",
   "execution_count": 37,
   "metadata": {
    "execution": {
     "iopub.execute_input": "2025-10-18T21:27:40.826677Z",
     "iopub.status.busy": "2025-10-18T21:27:40.825390Z",
     "iopub.status.idle": "2025-10-18T21:27:40.836362Z",
     "shell.execute_reply": "2025-10-18T21:27:40.835249Z",
     "shell.execute_reply.started": "2025-10-18T21:27:40.826631Z"
    },
    "trusted": true
   },
   "outputs": [
    {
     "name": "stdout",
     "output_type": "stream",
     "text": [
      "\n",
      "The comparison:\n",
      "\n",
      "            Method  Time (seconds)  Total Memory Used (MB)\n",
      "Pandas (chunksize)       85.085593               37.072811\n",
      "              Dask       99.828463             6627.627619\n",
      " Compressed (Gzip)      149.839266             1669.942356\n"
     ]
    }
   ],
   "source": [
    "data = {\n",
    "    \"Method\": [\"Pandas (chunksize)\", \"Dask\", \"Compressed (Gzip)\"],\n",
    "    \"Time (seconds)\": [end - start, end_dask - start_dask, end_time_gzip - start_time_gzip],\n",
    "    \"Total Memory Used (MB)\": [memory, memory_dask, memory_gzip]\n",
    "}\n",
    "df_comparison = pd.DataFrame(data)\n",
    "print(\"\\nThe comparison:\\n\")\n",
    "print(df_comparison.to_string(index=False))"
   ]
  },
  {
   "cell_type": "markdown",
   "metadata": {},
   "source": [
    "###  التحليل \n",
    "\n",
    "####  من حيث الزمن (الأداء):\n",
    "- **Pandas (chunksize)** كانت **الأسرع** بمتوسط **85 ثانية فقط**.  \n",
    "  السبب هو أن هذه الطريقة تقوم بتحميل البيانات على دفعات صغيرة (chunks)، مما يقلل من الحمل على الذاكرة أثناء المعالجة.\n",
    "\n",
    "- **Dask** استغرق وقتاً أطول (حوالي **100 ثانية**)، رغم كونه يعمل بالتوازي، إلا أن **إدارة المهام المتعددة (overhead)** تسبب بعض البطء في المهام الصغيرة.\n",
    "\n",
    "- **Gzip** كان **الأبطأ** لأن عملية **فك الضغط أثناء القراءة** تتطلب وقتاً إضافياً.\n",
    "\n",
    "---\n",
    "\n",
    "####  من حيث استهلاك الذاكرة:\n",
    "- **Pandas (chunksize)** كانت **الأفضل** باستهلاك منخفض جداً (≈ **37 MB**).  \n",
    "  وهذا يجعلها مناسبة للأجهزة **محدودة الذاكرة**.\n",
    "\n",
    "- **Dask** استخدم **أعلى كمية من الذاكرة** (≈ **6.6 GB**) بسبب **تقسيم البيانات إلى مهام متعددة** تُخزن مؤقتاً في الذاكرة أثناء المعالجة.\n",
    "\n",
    "- **Gzip** استهلك **ذاكرة كبيرة نسبياً** (≈ **1.6 GB**) نتيجة **فك الضغط المؤقت للبيانات** أثناء التحميل.\n"
   ]
  }
 ],
 "metadata": {
  "kaggle": {
   "accelerator": "none",
   "dataSources": [
    {
     "datasetId": 411512,
     "sourceId": 835452,
     "sourceType": "datasetVersion"
    }
   ],
   "dockerImageVersionId": 31153,
   "isGpuEnabled": false,
   "isInternetEnabled": false,
   "language": "python",
   "sourceType": "notebook"
  },
  "kernelspec": {
   "display_name": "Python 3",
   "language": "python",
   "name": "python3"
  },
  "language_info": {
   "codemirror_mode": {
    "name": "ipython",
    "version": 3
   },
   "file_extension": ".py",
   "mimetype": "text/x-python",
   "name": "python",
   "nbconvert_exporter": "python",
   "pygments_lexer": "ipython3",
   "version": "3.12.7"
  }
 },
 "nbformat": 4,
 "nbformat_minor": 4
}
