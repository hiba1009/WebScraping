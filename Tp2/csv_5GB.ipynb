{
 "cells": [
  {
   "cell_type": "code",
   "execution_count": 3,
   "metadata": {
    "_cell_guid": "b1076dfc-b9ad-4769-8c92-a6c4dae69d19",
    "_uuid": "8f2839f25d086af736a60e9eeb907d3b93b6e0e5",
    "execution": {
     "iopub.execute_input": "2025-10-14T23:21:06.985910Z",
     "iopub.status.busy": "2025-10-14T23:21:06.985587Z",
     "iopub.status.idle": "2025-10-14T23:21:07.005177Z",
     "shell.execute_reply": "2025-10-14T23:21:07.003952Z",
     "shell.execute_reply.started": "2025-10-14T23:21:06.985884Z"
    },
    "trusted": true
   },
   "outputs": [
    {
     "name": "stdout",
     "output_type": "stream",
     "text": [
      "/kaggle/input/ecommerce-behavior-data-from-multi-category-store/2019-Nov.csv\n",
      "/kaggle/input/ecommerce-behavior-data-from-multi-category-store/2019-Oct.csv\n"
     ]
    }
   ],
   "source": [
    "# This Python 3 environment comes with many helpful analytics libraries installed\n",
    "# It is defined by the kaggle/python Docker image: https://github.com/kaggle/docker-python\n",
    "# For example, here's several helpful packages to load\n",
    "\n",
    "import numpy as np # linear algebra\n",
    "import pandas as pd # data processing, CSV file I/O (e.g. pd.read_csv)\n",
    "\n",
    "# Input data files are available in the read-only \"../input/\" directory\n",
    "# For example, running this (by clicking run or pressing Shift+Enter) will list all files under the input directory\n",
    "\n",
    "import os\n",
    "for dirname, _, filenames in os.walk('/kaggle/input'):\n",
    "    for filename in filenames:\n",
    "        print(os.path.join(dirname, filename))\n",
    "\n",
    "# You can write up to 20GB to the current directory (/kaggle/working/) that gets preserved as output when you create a version using \"Save & Run All\" \n",
    "# You can also write temporary files to /kaggle/temp/, but they won't be saved outside of the current session"
   ]
  },
  {
   "cell_type": "code",
   "execution_count": 4,
   "metadata": {
    "execution": {
     "iopub.execute_input": "2025-10-14T23:21:13.300576Z",
     "iopub.status.busy": "2025-10-14T23:21:13.300259Z",
     "iopub.status.idle": "2025-10-14T23:21:13.305982Z",
     "shell.execute_reply": "2025-10-14T23:21:13.304771Z",
     "shell.execute_reply.started": "2025-10-14T23:21:13.300552Z"
    },
    "trusted": true
   },
   "outputs": [],
   "source": [
    "path = \"/kaggle/input/ecommerce-behavior-data-from-multi-category-store/2019-Oct.csv\"\n"
   ]
  },
  {
   "cell_type": "markdown",
   "metadata": {},
   "source": [
    "# Pandas (chunksize)"
   ]
  },
  {
   "cell_type": "code",
   "execution_count": 21,
   "metadata": {
    "execution": {
     "iopub.execute_input": "2025-10-14T23:57:11.884837Z",
     "iopub.status.busy": "2025-10-14T23:57:11.884355Z",
     "iopub.status.idle": "2025-10-14T23:58:32.653734Z",
     "shell.execute_reply": "2025-10-14T23:58:32.652661Z",
     "shell.execute_reply.started": "2025-10-14T23:57:11.884791Z"
    },
    "trusted": true
   },
   "outputs": [
    {
     "name": "stdout",
     "output_type": "stream",
     "text": [
      " تم تحميل الملف بنجاح في 80.76 ثانية\n",
      "عدد الأسطر الإجمالي: 42448764\n"
     ]
    }
   ],
   "source": [
    "import pandas as pd\n",
    "import time\n",
    "\n",
    "start = time.time()\n",
    "\n",
    "chunksize = 500000  \n",
    "chunks = []\n",
    "\n",
    "for chunk in pd.read_csv(path, chunksize=chunksize):\n",
    "    chunks.append(chunk)\n",
    "\n",
    "df = pd.concat(chunks, ignore_index=True)\n",
    "\n",
    "end = time.time()\n",
    "print(f\" تم تحميل الملف بنجاح في {end - start:.2f} ثانية\")\n",
    "print(f\"عدد الأسطر الإجمالي: {len(df)}\")\n"
   ]
  },
  {
   "cell_type": "code",
   "execution_count": 30,
   "metadata": {
    "execution": {
     "iopub.execute_input": "2025-10-15T00:12:30.474919Z",
     "iopub.status.busy": "2025-10-15T00:12:30.474640Z",
     "iopub.status.idle": "2025-10-15T00:13:10.514562Z",
     "shell.execute_reply": "2025-10-15T00:13:10.513429Z",
     "shell.execute_reply.started": "2025-10-15T00:12:30.474899Z"
    },
    "trusted": true
   },
   "outputs": [],
   "source": [
    "memory = df.memory_usage(deep=True).sum() / (1024 ** 2)"
   ]
  },
  {
   "cell_type": "markdown",
   "metadata": {},
   "source": [
    "# Dask "
   ]
  },
  {
   "cell_type": "code",
   "execution_count": 37,
   "metadata": {
    "execution": {
     "iopub.execute_input": "2025-10-15T00:23:33.611265Z",
     "iopub.status.busy": "2025-10-15T00:23:33.610122Z",
     "iopub.status.idle": "2025-10-15T00:25:12.248463Z",
     "shell.execute_reply": "2025-10-15T00:25:12.247081Z",
     "shell.execute_reply.started": "2025-10-15T00:23:33.611210Z"
    },
    "trusted": true
   },
   "outputs": [
    {
     "name": "stdout",
     "output_type": "stream",
     "text": [
      " الزمن المستغرق: 98.63 ثانية\n",
      "عدد الأسطر الإجمالي: 42448764\n"
     ]
    }
   ],
   "source": [
    "import dask.dataframe as dd\n",
    "import time\n",
    "\n",
    "start_dask = time.time()\n",
    "\n",
    "df_dask = dd.read_csv(path).compute()\n",
    "\n",
    "\n",
    "end_dask = time.time()\n",
    "print(f\" الزمن المستغرق: {end_dask - start_dask:.2f} ثانية\")\n",
    "print(f\"عدد الأسطر الإجمالي: {len(df_dask)}\")"
   ]
  },
  {
   "cell_type": "code",
   "execution_count": 39,
   "metadata": {
    "execution": {
     "iopub.execute_input": "2025-10-15T00:27:12.436313Z",
     "iopub.status.busy": "2025-10-15T00:27:12.435921Z",
     "iopub.status.idle": "2025-10-15T00:27:12.458714Z",
     "shell.execute_reply": "2025-10-15T00:27:12.456907Z",
     "shell.execute_reply.started": "2025-10-15T00:27:12.436286Z"
    },
    "trusted": true
   },
   "outputs": [],
   "source": [
    "memory_dask = df_dask.memory_usage(deep=True).sum() / (1024 ** 2)"
   ]
  },
  {
   "cell_type": "markdown",
   "metadata": {},
   "source": [
    "# Compressed (Gzip) "
   ]
  },
  {
   "cell_type": "code",
   "execution_count": 15,
   "metadata": {
    "execution": {
     "iopub.execute_input": "2025-10-14T23:42:00.440527Z",
     "iopub.status.busy": "2025-10-14T23:42:00.440085Z",
     "iopub.status.idle": "2025-10-14T23:45:56.577237Z",
     "shell.execute_reply": "2025-10-14T23:45:56.576061Z",
     "shell.execute_reply.started": "2025-10-14T23:42:00.440497Z"
    },
    "trusted": true
   },
   "outputs": [],
   "source": [
    "!gzip /kaggle/working/2019-Oct.csv\n"
   ]
  },
  {
   "cell_type": "code",
   "execution_count": 18,
   "metadata": {
    "execution": {
     "iopub.execute_input": "2025-10-14T23:51:11.704977Z",
     "iopub.status.busy": "2025-10-14T23:51:11.704470Z",
     "iopub.status.idle": "2025-10-14T23:53:34.769974Z",
     "shell.execute_reply": "2025-10-14T23:53:34.768807Z",
     "shell.execute_reply.started": "2025-10-14T23:51:11.704952Z"
    },
    "trusted": true
   },
   "outputs": [
    {
     "name": "stdout",
     "output_type": "stream",
     "text": [
      " الزمن المستغرق: 143.06 ثانية\n",
      "عدد الأسطر الإجمالي: 42448764\n"
     ]
    }
   ],
   "source": [
    "start_time_gzip = time.time()\n",
    "df_gzip = pd.read_csv('/kaggle/working/2019-Oct.csv.gz', compression='gzip')\n",
    "end_time_gzip = time.time()\n",
    "print(f\" الزمن المستغرق: {end_time_gzip - start_time_gzip:.2f} ثانية\")\n",
    "print(f\"عدد الأسطر الإجمالي: {len(df_gzip)}\")"
   ]
  },
  {
   "cell_type": "code",
   "execution_count": 24,
   "metadata": {
    "execution": {
     "iopub.execute_input": "2025-10-15T00:08:07.203745Z",
     "iopub.status.busy": "2025-10-15T00:08:07.203463Z",
     "iopub.status.idle": "2025-10-15T00:08:51.572102Z",
     "shell.execute_reply": "2025-10-15T00:08:51.570968Z",
     "shell.execute_reply.started": "2025-10-15T00:08:07.203724Z"
    },
    "trusted": true
   },
   "outputs": [],
   "source": [
    "memory_gzip = df_gzip.memory_usage(deep=True).sum() / (1024 ** 2)"
   ]
  },
  {
   "cell_type": "markdown",
   "metadata": {},
   "source": [
    "# comparison"
   ]
  },
  {
   "cell_type": "code",
   "execution_count": 41,
   "metadata": {
    "execution": {
     "iopub.execute_input": "2025-10-15T00:27:23.642029Z",
     "iopub.status.busy": "2025-10-15T00:27:23.641608Z",
     "iopub.status.idle": "2025-10-15T00:27:23.652006Z",
     "shell.execute_reply": "2025-10-15T00:27:23.650975Z",
     "shell.execute_reply.started": "2025-10-15T00:27:23.641982Z"
    },
    "trusted": true
   },
   "outputs": [
    {
     "name": "stdout",
     "output_type": "stream",
     "text": [
      "\n",
      "The comparison:\n",
      "\n",
      "            Method  Time (seconds)  Total Memory Used (MB)\n",
      "Pandas (chunksize)       80.762608            15743.616797\n",
      "              Dask       98.630115             6627.627619\n",
      " Compressed (Gzip)      143.058658            15743.616797\n"
     ]
    }
   ],
   "source": [
    "data = {\n",
    "    \"Method\": [\"Pandas (chunksize)\", \"Dask\", \"Compressed (Gzip)\"],\n",
    "    \"Time (seconds)\": [end - start, end_dask - start_dask, end_time_gzip - start_time_gzip],\n",
    "    \"Total Memory Used (MB)\": [memory, memory_dask, memory_gzip]\n",
    "}\n",
    "df_comparison = pd.DataFrame(data)\n",
    "print(\"\\nThe comparison:\\n\")\n",
    "print(df_comparison.to_string(index=False))"
   ]
  }
 ],
 "metadata": {
  "kaggle": {
   "accelerator": "none",
   "dataSources": [
    {
     "datasetId": 411512,
     "sourceId": 835452,
     "sourceType": "datasetVersion"
    }
   ],
   "dockerImageVersionId": 31153,
   "isGpuEnabled": false,
   "isInternetEnabled": false,
   "language": "python",
   "sourceType": "notebook"
  },
  "kernelspec": {
   "display_name": "Python 3",
   "language": "python",
   "name": "python3"
  },
  "language_info": {
   "codemirror_mode": {
    "name": "ipython",
    "version": 3
   },
   "file_extension": ".py",
   "mimetype": "text/x-python",
   "name": "python",
   "nbconvert_exporter": "python",
   "pygments_lexer": "ipython3",
   "version": "3.12.7"
  }
 },
 "nbformat": 4,
 "nbformat_minor": 4
}
