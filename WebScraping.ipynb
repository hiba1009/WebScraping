{
 "cells": [
  {
   "cell_type": "markdown",
   "id": "dd46943f",
   "metadata": {},
   "source": [
    "## Importing the libraries"
   ]
  },
  {
   "cell_type": "code",
   "execution_count": 2,
   "id": "97cca725",
   "metadata": {},
   "outputs": [],
   "source": [
    "from bs4 import BeautifulSoup\n",
    "import requests\n",
    "import pandas as pd"
   ]
  },
  {
   "cell_type": "markdown",
   "id": "3b18733f",
   "metadata": {},
   "source": [
    "## Fetching the website (page)"
   ]
  },
  {
   "cell_type": "code",
   "execution_count": 5,
   "id": "fbe655c0",
   "metadata": {},
   "outputs": [],
   "source": [
    "url = \"https://books.toscrape.com/\"\n",
    "response = requests.get(url)"
   ]
  },
  {
   "cell_type": "markdown",
   "id": "237cc31d",
   "metadata": {},
   "source": [
    "## Extracting the data"
   ]
  },
  {
   "cell_type": "code",
   "execution_count": null,
   "id": "4e25384a",
   "metadata": {},
   "outputs": [],
   "source": [
    "soup = BeautifulSoup(response.text, \"html.parser\")\n",
    "books = soup.find_all(\"article\", class_=\"product_pod\")\n",
    "\n",
    "books_list = []\n",
    "price_list = []\n",
    "\n",
    "for book in books:\n",
    "    title = book.h3.a[\"title\"]             \n",
    "    price = book.find(\"p\", class_=\"price_color\").text.strip()  \n",
    "    \n",
    "    books_list.append(title)\n",
    "    price_list.append(price)\n"
   ]
  },
  {
   "cell_type": "markdown",
   "id": "9ea1540f",
   "metadata": {},
   "source": [
    "## Saving it into a CSV file"
   ]
  },
  {
   "cell_type": "code",
   "execution_count": 13,
   "id": "0ca9cea6",
   "metadata": {},
   "outputs": [],
   "source": [
    "df = pd.DataFrame({\n",
    "    \"Title\": books_list,\n",
    "    \"Price\": price_list\n",
    "})\n",
    "df.to_csv(\"books.csv\", index=False, encoding=\"utf-8-sig\")"
   ]
  }
 ],
 "metadata": {
  "kernelspec": {
   "display_name": "Python 3",
   "language": "python",
   "name": "python3"
  },
  "language_info": {
   "codemirror_mode": {
    "name": "ipython",
    "version": 3
   },
   "file_extension": ".py",
   "mimetype": "text/x-python",
   "name": "python",
   "nbconvert_exporter": "python",
   "pygments_lexer": "ipython3",
   "version": "3.12.7"
  }
 },
 "nbformat": 4,
 "nbformat_minor": 5
}
