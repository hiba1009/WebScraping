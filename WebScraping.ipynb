{
 "cells": [
  {
   "cell_type": "code",
   "execution_count": 29,
   "id": "fb5c2939",
   "metadata": {},
   "outputs": [],
   "source": [
    "import requests\n",
    "from bs4 import BeautifulSoup\n",
    "import pandas as pd\n",
    "import time\n",
    "import random\n",
    "\n",
    "all_data = []\n",
    "\n",
    "headers = {\n",
    "    'User-Agent': 'Mozilla/5.0 (Windows NT 10.0; Win64; x64) AppleWebKit/537.36'\n",
    "}\n",
    "\n",
    "for page in range(1, 101):  # 100 صفحة\n",
    "    url = f\"https://www.goodreads.com/quotes?page={page}\"\n",
    "    \n",
    "    response = requests.get(url, headers=headers, timeout=10)\n",
    "\n",
    "    soup = BeautifulSoup(response.text, \"html.parser\")\n",
    "\n",
    "    quotes = soup.find_all(\"div\", class_=\"quote\")\n",
    "\n",
    "    for quote in quotes:\n",
    "        text_element = quote.find(\"div\", class_=\"quoteText\")\n",
    "        text = text_element.text.strip().split('―')[0].replace('\"', '').strip() if text_element else \"N/A\"\n",
    "\n",
    "        author_element = quote.find(\"span\", class_=\"authorOrTitle\")\n",
    "        author = author_element.text.strip() if author_element else \"N/A\"\n",
    "\n",
    "        book_element = quote.find(\"a\", class_=\"authorOrTitle\")\n",
    "        book = book_element.text.strip() if book_element else \"N/A\"\n",
    "\n",
    "        tags_elements = quote.find_all(\"a\", class_=\"smallText\")\n",
    "        tags = [tag.text.strip() for tag in tags_elements if \"likes\" not in tag.text]\n",
    "\n",
    "        likes_element = quote.find(\"a\", class_=\"smallText\", string=lambda x: \"likes\" in str(x))\n",
    "        likes = likes_element.text.strip() if likes_element else \"0 likes\"\n",
    "\n",
    "        all_data.append({\n",
    "            \"Quote\": text[:300] + \"...\" if len(text) > 300 else text,\n",
    "            \"Author\": author,\n",
    "            \"Book\": book,\n",
    "            \"Tags\": \", \".join(tags),\n",
    "            \"Likes\": likes,\n",
    "            \"Page\": page\n",
    "        })\n",
    "\n",
    "    \n",
    "    time.sleep(random.uniform(1, 2))\n",
    "\n",
    "df = pd.DataFrame(all_data)\n",
    "df.to_csv(\"goodreads_quotes.csv\", index=False, encoding=\"utf-8-sig\")\n",
    "\n"
   ]
  }
 ],
 "metadata": {
  "kernelspec": {
   "display_name": "Python 3",
   "language": "python",
   "name": "python3"
  },
  "language_info": {
   "codemirror_mode": {
    "name": "ipython",
    "version": 3
   },
   "file_extension": ".py",
   "mimetype": "text/x-python",
   "name": "python",
   "nbconvert_exporter": "python",
   "pygments_lexer": "ipython3",
   "version": "3.12.7"
  }
 },
 "nbformat": 4,
 "nbformat_minor": 5
}
